{
 "cells": [
  {
   "cell_type": "code",
   "execution_count": 18,
   "id": "321156b5",
   "metadata": {},
   "outputs": [],
   "source": [
    "import os\n",
    "from gensim.models import Word2Vec\n",
    "from cade.cade import CADE"
   ]
  },
  {
   "cell_type": "code",
   "execution_count": 17,
   "id": "f654d6c3",
   "metadata": {},
   "outputs": [
    {
     "name": "stdout",
     "output_type": "stream",
     "text": [
      "['CADE_01_duecento_poetica_e_prosa Medievo.txt', 'CADE_02_dolce_stil_novo.txt', 'CADE_03_petrarchismo.txt', 'CADE_04_boccaccio_e_umanesimo.txt', 'CADE_05_manierismo_e_barocco.txt', 'CADE_06_classicismo_arcadia.txt', 'CADE_07_illuminismo_neoclassicismo.txt', 'CADE_08_romanticismo.txt', 'CADE_09_verismo.txt', 'CADE_10_decadentismo.txt', 'CADE_11_avanguardie_primo_novecento.txt', 'CADE_12_neorealismo.txt']\n",
      "None\n",
      "None\n",
      "None\n",
      "None\n",
      "None\n",
      "None\n",
      "None\n",
      "None\n",
      "None\n",
      "None\n",
      "None\n",
      "None\n"
     ]
    }
   ],
   "source": [
    "import re\n",
    "path_source = \"./data/Preprocessing/fasi_letterarie/Corpus_CADE/\"\n",
    "file_name = os.listdir(f\"{path_source}\")\n",
    "print(sorted(os.listdir(f\"{path_source}\")))                     \n",
    "for _ in file_name:\n",
    "    file_name_no_ext = _.replace(\".txt\",\"\")\n",
    "    print(re.match(path_source, _))"
   ]
  },
  {
   "cell_type": "markdown",
   "id": "f2abd902",
   "metadata": {},
   "source": [
    "CADE richiede prima di tutto di creare la compass, unendo tutti i file contenuti nelle cartelle 'Corpus CADE' all'interno di autori, fasi_letterarie, periodi_storici"
   ]
  },
  {
   "cell_type": "code",
   "execution_count": null,
   "id": "998996d2",
   "metadata": {},
   "outputs": [],
   "source": [
    "!cat corpus1.txt corpus2.txt ... > compass.txt"
   ]
  },
  {
   "cell_type": "code",
   "execution_count": 19,
   "id": "f53bc8da",
   "metadata": {},
   "outputs": [],
   "source": [
    "def training_CADE(texts, n_mod): #lista contenente i corpus usati per creare la compass, numero di slices da addestrare\n",
    "# LA LISTA TEXT CHE VIENE PASSATA COME VARIABILE DEVE CONTENERE I CORPUS NELLO STESSO ORDINE CON CUI SONO STATI USATI PER\n",
    "# CREARE LA COMPASS. IO AVEVO PASSATO I NOMI SENZA ESTENSIONE .TXT PER FACILITARMI IL SALVATAGGIO\n",
    "    aligner = CADE(min_count=10,  \n",
    "                  size=300,\n",
    "                  sg = 1, \n",
    "                  #hs = 0,\n",
    "                  ns = 5, \n",
    "                  workers = 5,\n",
    "                  siter = 6)\n",
    "\n",
    "    for k in range(n_mod):\n",
    "        aligner.train_compass('compass.txt', overwrite=True)\n",
    "    for text in texts:\n",
    "        model_slice = aligner.train_slice(text + \".txt\") #per trainare le slice ho bisogno del nome esatto del file .txt con cui ho creato il compasso\n",
    "        model_slice.save(text + '_cade_' + str(k) + '.model') #qui posso salvare il modello con un nome a piacere"
   ]
  }
 ],
 "metadata": {
  "kernelspec": {
   "display_name": "Python 3.10.7 ('semantics310')",
   "language": "python",
   "name": "python3"
  },
  "language_info": {
   "codemirror_mode": {
    "name": "ipython",
    "version": 3
   },
   "file_extension": ".py",
   "mimetype": "text/x-python",
   "name": "python",
   "nbconvert_exporter": "python",
   "pygments_lexer": "ipython3",
   "version": "3.10.7"
  },
  "vscode": {
   "interpreter": {
    "hash": "4cd0097cd447d37f93b86013bfa75ba6714b02867fc57650c755d18f8b44cab2"
   }
  }
 },
 "nbformat": 4,
 "nbformat_minor": 5
}
