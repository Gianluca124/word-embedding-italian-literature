{
 "cells": [
  {
   "cell_type": "code",
   "execution_count": null,
   "id": "f3b8a06a",
   "metadata": {},
   "outputs": [],
   "source": [
    "import string\n",
    "import sys\n",
    "import io \n",
    "import nltk # Natural Language Processing package\n",
    "\n",
    "# Stopwords\n",
    "from gensim.parsing.preprocessing import remove_stopwords\n",
    "from nltk.corpus import stopwords \n",
    "nltk.download('stopwords')\n",
    "stops = set(stopwords.words('italian'))\n",
    "nltk_stopwords = nltk.corpus.stopwords.words('italian')\n",
    "# Valutare di aggiungere eventuali forme arcariche delle stopwords italiane, o se c'è necessità di estendere questa lista\n",
    "\n",
    "# Bigrammi\n",
    "from gensim.models import Phrases  \n",
    "\n",
    "# Per dividere il testo in frasi in base ai punti\n",
    "nltk.download('punkt')\n",
    "\n",
    "# Per tokenizzare\n",
    "from nltk.tokenize import word_tokenize \n",
    "\n",
    "# Per il discorso lemmatizzazione dobbiamo valutare come muoverci con l'italiano\n",
    "\n",
    "# Lemmatization\n",
    "from nltk.stem import WordNetLemmatizer \n",
    "from nltk.corpus import wordnet\n",
    "nltk.download('averaged_perceptron_tagger')\n",
    "nltk.download('wordnet')\n",
    "nltk.download('omw-1.4')\n",
    "lemmatizer = WordNetLemmatizer()\n",
    "\n",
    "# Position tag\n",
    "def get_wordnet_pos(word):\n",
    "    \"\"\"Map POS tag to first character lemmatize() accepts\"\"\"\n",
    "    tag = nltk.pos_tag([word])[0][1][0].upper()\n",
    "    tag_dict = {\"J\": wordnet.ADJ,\n",
    "                \"N\": wordnet.NOUN,\n",
    "                \"V\": wordnet.VERB,\n",
    "                \"R\": wordnet.ADV}\n",
    "\n",
    "    return tag_dict.get(tag, wordnet.NOUN)\n",
    "\n",
    "# Contatore parole uniche\n",
    "from collections import Counter\n",
    "\n",
    "# Per esplorare risultati\n",
    "import random\n",
    "\n",
    "import unicodedata # Pulizia dei caratteri speciali"
   ]
  },
  {
   "cell_type": "markdown",
   "id": "180cfb4c",
   "metadata": {},
   "source": [
    "# FUNZIONE DI PREPROCESSING - NO LEMMATIZZAZIONE"
   ]
  },
  {
   "cell_type": "code",
   "execution_count": null,
   "id": "ffa21122",
   "metadata": {},
   "outputs": [],
   "source": [
    "def preprocessing(file_name):\n",
    "\n",
    "  output=\"\"\n",
    "  with open(file_name, encoding='utf-8') as f:\n",
    "      for line in f:\n",
    "          if not line.isspace(): # Rimuovo linee vuote\n",
    "              output+=line\n",
    "\n",
    "  # Divido il testo in frasi, basandomi sui punti\n",
    "  output_sentences = nltk.tokenize.sent_tokenize(output)\n",
    "\n",
    "  # Valutare se è necessario eliminare delle righe all'inizio o alla fine dei .txt se presentano licenze,...\n",
    "  # output_sentences = output_sentences[:-]\n",
    "\n",
    "  filtered_sentences = []\n",
    "  # 'Pulisco' ogni frase, una alla volta\n",
    "  for sentence in output_sentences:\n",
    "    # Metto tutto in lower case\n",
    "    lower_sentence=sentence.lower()\n",
    "    # Rimuovo caratteri non alfa numerici\n",
    "    noalfa_sentence = [w for w in word_tokenize(lower_sentence) if (w.isalpha()==True)]\n",
    "    # Rimuovo le stopwords e le parole di un solo carattere che potrebbero non essere incluse nella lista delle stopwords\n",
    "    filtered_sentence = [w for w in noalfa_sentence if ((w not in stops) and (len(w) > 1))]\n",
    "    # Ricostruisco la lista con le frasi 'pulite'\n",
    "    if filtered_sentence:\n",
    "      filtered_sentences.append(filtered_sentence)\n",
    "\n",
    "  return filtered_sentences"
   ]
  },
  {
   "cell_type": "markdown",
   "id": "8b6b5756",
   "metadata": {},
   "source": [
    "# FUNZIONE DI SALVATAGGIO"
   ]
  },
  {
   "cell_type": "code",
   "execution_count": null,
   "id": "5006225c",
   "metadata": {},
   "outputs": [],
   "source": [
    "# Senza lemmatizzazione\n",
    "def savesentencesnl(filename, sentences):\n",
    "  #os.chdir('/content/drive/MyDrive/Magistrale/Secondo semestre/DS/Progetto/Sentences_nl')\n",
    "  with open(filename + '_nl.txt', 'w', encoding='utf-8') as fp:\n",
    "    for sentence in sentences:\n",
    "      fp.write(str(sentence) + '\\n')"
   ]
  },
  {
   "cell_type": "markdown",
   "id": "d4727425",
   "metadata": {},
   "source": [
    "# PREPROCESSING"
   ]
  },
  {
   "cell_type": "code",
   "execution_count": null,
   "id": "0a283f7f",
   "metadata": {},
   "outputs": [],
   "source": [
    "import os\n",
    "#inserire path\n",
    "os.chdir(\"C:/Users/cafe6/Università degli Studi di Milano-Bicocca/g.carbone8@campus.unimib.it - data/Corpora/periodi_storici\")"
   ]
  },
  {
   "cell_type": "code",
   "execution_count": null,
   "id": "c5dc1e41",
   "metadata": {},
   "outputs": [],
   "source": [
    "frasi = preprocessing('nome_file.txt')\n",
    "savesentencesnl(\"nomefile\", frasi)"
   ]
  }
 ],
 "metadata": {
  "kernelspec": {
   "display_name": "Python 3 (ipykernel)",
   "language": "python",
   "name": "python3"
  },
  "language_info": {
   "codemirror_mode": {
    "name": "ipython",
    "version": 3
   },
   "file_extension": ".py",
   "mimetype": "text/x-python",
   "name": "python",
   "nbconvert_exporter": "python",
   "pygments_lexer": "ipython3",
   "version": "3.8.13"
  }
 },
 "nbformat": 4,
 "nbformat_minor": 5
}
