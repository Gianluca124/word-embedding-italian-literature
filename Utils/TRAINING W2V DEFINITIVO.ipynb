{
 "cells": [
  {
   "cell_type": "code",
   "execution_count": null,
   "id": "ff1abfbe",
   "metadata": {},
   "outputs": [],
   "source": [
    "import os\n",
    "from gensim.models import Word2Vec\n",
    "import string"
   ]
  },
  {
   "cell_type": "markdown",
   "id": "68bc8a2f",
   "metadata": {},
   "source": [
    "I file .txt già processati con cui costruire i modelli sono quelli presenti nelle cartelle autori, fasi_letterarie, periodi_storici (frasi_NON_lemmatizzate)"
   ]
  },
  {
   "cell_type": "code",
   "execution_count": null,
   "id": "2efc27bd",
   "metadata": {},
   "outputs": [],
   "source": [
    "# La funzione seguente addestra un numero n di modelli per ciascuno dei corpus a disposizione\n",
    "\n",
    "def training_W2V(sentences, text, n_mod): #file .txt con frasi PROCESSATE, nome con cui salvare il modello, \n",
    "                                          # numero di modelli da addestrare\n",
    "        for k in range(n_mod):\n",
    "            model = Word2Vec(sentences = sentences,\n",
    "                    #window = 5, default value\n",
    "                    min_count=10, #not consider word with absolute frequency <10 \n",
    "                    vector_size=300, #vector size \n",
    "                    sg = 1, #skipgram algorithm\n",
    "                    hs = 0,\n",
    "                    negative = 5, #negative sampling with 5 noise words\n",
    "                    workers = 5, #faster process\n",
    "                    epochs = 6 #6 iterations\n",
    "                    )\n",
    "            model.save(text.lower() + \"_\" + str(k) + \".model\")"
   ]
  },
  {
   "cell_type": "code",
   "execution_count": null,
   "id": "a279cd1a",
   "metadata": {},
   "outputs": [],
   "source": [
    "# La funzione seguente serve per caricare le sentences salvate nelle cartelle condivise\n",
    "def simple_preproc(text):\n",
    "    return text.translate(str.maketrans('', '', string.punctuation))\n",
    "\n",
    "\n",
    "with open(path + 'nome_file.txt', encoding='utf-8') as read_file:\n",
    "    nome_file_sentences = [simple_preproc(k).lower().split() for k in read_file.readlines()]"
   ]
  }
 ],
 "metadata": {
  "kernelspec": {
   "display_name": "Python 3 (ipykernel)",
   "language": "python",
   "name": "python3"
  },
  "language_info": {
   "codemirror_mode": {
    "name": "ipython",
    "version": 3
   },
   "file_extension": ".py",
   "mimetype": "text/x-python",
   "name": "python",
   "nbconvert_exporter": "python",
   "pygments_lexer": "ipython3",
   "version": "3.8.13"
  },
  "vscode": {
   "interpreter": {
    "hash": "4cd0097cd447d37f93b86013bfa75ba6714b02867fc57650c755d18f8b44cab2"
   }
  }
 },
 "nbformat": 4,
 "nbformat_minor": 5
}
